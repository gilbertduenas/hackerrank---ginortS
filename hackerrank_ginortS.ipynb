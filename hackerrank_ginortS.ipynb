{
  "nbformat": 4,
  "nbformat_minor": 0,
  "metadata": {
    "colab": {
      "name": "hackerrank - ginortS",
      "provenance": [],
      "authorship_tag": "ABX9TyMnZdLOHmxvQQM1441ANDsE",
      "include_colab_link": true
    },
    "kernelspec": {
      "name": "python3",
      "display_name": "Python 3"
    }
  },
  "cells": [
    {
      "cell_type": "markdown",
      "metadata": {
        "id": "view-in-github",
        "colab_type": "text"
      },
      "source": [
        "<a href=\"https://colab.research.google.com/github/gilbertduenas/hackerrank---ginortS/blob/master/hackerrank_ginortS.ipynb\" target=\"_parent\"><img src=\"https://colab.research.google.com/assets/colab-badge.svg\" alt=\"Open In Colab\"/></a>"
      ]
    },
    {
      "cell_type": "markdown",
      "metadata": {
        "id": "FQfpfjcxqPpJ",
        "colab_type": "text"
      },
      "source": [
        "https://www.hackerrank.com/challenges/ginorts/problem"
      ]
    },
    {
      "cell_type": "markdown",
      "metadata": {
        "id": "Czfh2gZhqKt_",
        "colab_type": "text"
      },
      "source": [
        ""
      ]
    },
    {
      "cell_type": "code",
      "metadata": {
        "id": "Qi5KBfIjpYlL",
        "colab_type": "code",
        "colab": {}
      },
      "source": [
        "s = 'Sorting1234'"
      ],
      "execution_count": null,
      "outputs": []
    },
    {
      "cell_type": "code",
      "metadata": {
        "id": "H69aQGIdqRqr",
        "colab_type": "code",
        "colab": {}
      },
      "source": [
        "new = sorted([x for x in s if x.islower()])"
      ],
      "execution_count": null,
      "outputs": []
    },
    {
      "cell_type": "code",
      "metadata": {
        "id": "UFowE8t4qgEm",
        "colab_type": "code",
        "colab": {
          "base_uri": "https://localhost:8080/",
          "height": 35
        },
        "outputId": "9321cb32-99bc-4bd2-d29d-16336ac30598"
      },
      "source": [
        "new"
      ],
      "execution_count": null,
      "outputs": [
        {
          "output_type": "execute_result",
          "data": {
            "text/plain": [
              "['g', 'i', 'n', 'o', 'r', 't']"
            ]
          },
          "metadata": {
            "tags": []
          },
          "execution_count": 15
        }
      ]
    },
    {
      "cell_type": "code",
      "metadata": {
        "id": "DdOwUnLJqkMm",
        "colab_type": "code",
        "colab": {
          "base_uri": "https://localhost:8080/",
          "height": 35
        },
        "outputId": "eef4c1db-ed3d-4fcc-d510-78ccb7693fd5"
      },
      "source": [
        "sorted([x for x in s if x.isupper()])"
      ],
      "execution_count": null,
      "outputs": [
        {
          "output_type": "execute_result",
          "data": {
            "text/plain": [
              "['S']"
            ]
          },
          "metadata": {
            "tags": []
          },
          "execution_count": 17
        }
      ]
    },
    {
      "cell_type": "code",
      "metadata": {
        "id": "ux78cdgXqx7c",
        "colab_type": "code",
        "colab": {
          "base_uri": "https://localhost:8080/",
          "height": 35
        },
        "outputId": "c7928913-123c-48f2-bee3-ef0a5d19feea"
      },
      "source": [
        "sorted([x for x in s if x.isnumeric()])"
      ],
      "execution_count": null,
      "outputs": [
        {
          "output_type": "execute_result",
          "data": {
            "text/plain": [
              "['1', '2', '3', '4']"
            ]
          },
          "metadata": {
            "tags": []
          },
          "execution_count": 18
        }
      ]
    },
    {
      "cell_type": "code",
      "metadata": {
        "id": "4SYQGJGXswPy",
        "colab_type": "code",
        "colab": {
          "base_uri": "https://localhost:8080/",
          "height": 36
        },
        "outputId": "a7561d70-79aa-42b9-f40e-dc75b447b225"
      },
      "source": [
        "# last part needs to put sorted odd numbers before sorted even numbers.\n",
        "''.join(sorted([x for x in s if x.islower()]) + sorted([x for x in s if x.isupper()]) + sorted([x for x in s if x.isnumeric()]))"
      ],
      "execution_count": null,
      "outputs": [
        {
          "output_type": "execute_result",
          "data": {
            "application/vnd.google.colaboratory.intrinsic": {
              "type": "string"
            },
            "text/plain": [
              "'ginortS1234'"
            ]
          },
          "metadata": {
            "tags": []
          },
          "execution_count": 20
        }
      ]
    },
    {
      "cell_type": "code",
      "metadata": {
        "id": "D6T1Z2uMs53A",
        "colab_type": "code",
        "colab": {
          "base_uri": "https://localhost:8080/",
          "height": 35
        },
        "outputId": "ae945d64-d5d1-4cfd-e628-8be7c937c1e5"
      },
      "source": [
        "# this should do it\n",
        "sorted([x for x in s if x.isnumeric() and int(x)%2 == 1]) + sorted([x for x in s if x.isnumeric() and int(x)%2 == 0])"
      ],
      "execution_count": null,
      "outputs": [
        {
          "output_type": "execute_result",
          "data": {
            "text/plain": [
              "['1', '3', '2', '4']"
            ]
          },
          "metadata": {
            "tags": []
          },
          "execution_count": 23
        }
      ]
    },
    {
      "cell_type": "code",
      "metadata": {
        "id": "kqpXo-Agurtq",
        "colab_type": "code",
        "colab": {
          "base_uri": "https://localhost:8080/",
          "height": 36
        },
        "outputId": "6ba48ecb-1093-48f6-a56c-504f2063e21b"
      },
      "source": [
        "''.join(sorted([x for x in s if x.islower()]) + sorted([x for x in s if x.isupper()]) + sorted([x for x in s if x.isnumeric() and int(x)%2 == 1]) + sorted([x for x in s if x.isnumeric() and int(x)%2 == 0]))"
      ],
      "execution_count": null,
      "outputs": [
        {
          "output_type": "execute_result",
          "data": {
            "application/vnd.google.colaboratory.intrinsic": {
              "type": "string"
            },
            "text/plain": [
              "'ginortS1324'"
            ]
          },
          "metadata": {
            "tags": []
          },
          "execution_count": 24
        }
      ]
    },
    {
      "cell_type": "code",
      "metadata": {
        "id": "YmvxP0ANvypW",
        "colab_type": "code",
        "colab": {}
      },
      "source": [
        "# chunks for readability\n",
        "lowercase = sorted([x for x in s if x.islower()])\n",
        "uppercase = sorted([x for x in s if x.isupper()])\n",
        "odd = sorted([x for x in s if x.isnumeric() and int(x)%2 == 1])\n",
        "even = sorted([x for x in s if x.isnumeric() and int(x)%2 == 0])\n",
        "\n",
        "all_together = ''.join(lowercase + uppercase + odd + even)"
      ],
      "execution_count": null,
      "outputs": []
    },
    {
      "cell_type": "code",
      "metadata": {
        "id": "db38QT9ZwoOI",
        "colab_type": "code",
        "colab": {
          "base_uri": "https://localhost:8080/",
          "height": 36
        },
        "outputId": "2440d912-5f42-4db8-b066-4acc9db3152f"
      },
      "source": [
        "all_together"
      ],
      "execution_count": null,
      "outputs": [
        {
          "output_type": "execute_result",
          "data": {
            "application/vnd.google.colaboratory.intrinsic": {
              "type": "string"
            },
            "text/plain": [
              "'ginortS1324'"
            ]
          },
          "metadata": {
            "tags": []
          },
          "execution_count": 26
        }
      ]
    },
    {
      "cell_type": "code",
      "metadata": {
        "id": "S2y0nc_owqPg",
        "colab_type": "code",
        "colab": {}
      },
      "source": [
        ""
      ],
      "execution_count": null,
      "outputs": []
    }
  ]
}